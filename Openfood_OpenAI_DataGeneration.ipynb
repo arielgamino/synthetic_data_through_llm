{
 "cells": [
  {
   "cell_type": "markdown",
   "id": "f175f32c-2bbc-499e-b368-72af064a99d2",
   "metadata": {},
   "source": [
    "# OpenFoodFacts food categorization \n",
    "\n",
    "Leverage LLM to classify food found in OpenFoodFacts"
   ]
  },
  {
   "cell_type": "markdown",
   "id": "8ef83fac-3781-4d83-9418-72a7f7ee01f9",
   "metadata": {},
   "source": [
    "<img src=\"TopicModelingWithSyntheticData2.png\"/>"
   ]
  },
  {
   "cell_type": "code",
   "execution_count": 5,
   "id": "a5f94395-52ad-4664-8aed-b3fc15a81962",
   "metadata": {},
   "outputs": [],
   "source": [
    "from pymongo import MongoClient\n",
    "from pprint import pprint\n",
    "from collections import Counter\n",
    "from tqdm.notebook import trange, tqdm\n",
    "\n",
    "from langchain.chat_models import ChatOpenAI\n",
    "\n",
    "import pandas as pd\n",
    "import re\n",
    "import os\n",
    "import sqlite3 \n",
    "import requests\n"
   ]
  },
  {
   "cell_type": "code",
   "execution_count": 6,
   "id": "7707f0a5-5b74-4720-830d-cecd71a7caa1",
   "metadata": {},
   "outputs": [],
   "source": [
    "# Connect to Mongo and read collection were data was imported\n",
    "mongo = MongoClient()\n",
    "db = mongo['openfoodfacts']\n",
    "products = db['products']"
   ]
  },
  {
   "cell_type": "code",
   "execution_count": 7,
   "id": "18a6fe0f-9db9-4b31-9548-6c84f04bfd41",
   "metadata": {},
   "outputs": [],
   "source": [
    "one_record = products.find_one({})"
   ]
  },
  {
   "cell_type": "markdown",
   "id": "b35845fb-45fd-44c9-8907-968b57677040",
   "metadata": {},
   "source": [
    "## Randomly select 5,000 products "
   ]
  },
  {
   "cell_type": "code",
   "execution_count": 8,
   "id": "69a0def9-6aa2-46da-bbad-4e68e28a155f",
   "metadata": {},
   "outputs": [
    {
     "data": {
      "text/plain": [
       "5000"
      ]
     },
     "execution_count": 8,
     "metadata": {},
     "output_type": "execute_result"
    }
   ],
   "source": [
    "random_records = list(products.aggregate([{'$sample': { 'size': 5000 }}]))\n",
    "len(random_records)"
   ]
  },
  {
   "cell_type": "code",
   "execution_count": 9,
   "id": "4b4ad3d7-299d-46c5-9c04-f23b75703a99",
   "metadata": {},
   "outputs": [
    {
     "data": {
      "text/html": [
       "<div>\n",
       "<style scoped>\n",
       "    .dataframe tbody tr th:only-of-type {\n",
       "        vertical-align: middle;\n",
       "    }\n",
       "\n",
       "    .dataframe tbody tr th {\n",
       "        vertical-align: top;\n",
       "    }\n",
       "\n",
       "    .dataframe thead th {\n",
       "        text-align: right;\n",
       "    }\n",
       "</style>\n",
       "<table border=\"1\" class=\"dataframe\">\n",
       "  <thead>\n",
       "    <tr style=\"text-align: right;\">\n",
       "      <th></th>\n",
       "      <th>_id</th>\n",
       "      <th>nutrition_grades</th>\n",
       "      <th>allergens_from_ingredients</th>\n",
       "      <th>ingredients_text_fr_debug_tags</th>\n",
       "      <th>id</th>\n",
       "      <th>emb_codes_debug_tags</th>\n",
       "      <th>amino_acids_prev_tags</th>\n",
       "      <th>categories_tags</th>\n",
       "      <th>categories_lc</th>\n",
       "      <th>brands_debug_tags</th>\n",
       "      <th>...</th>\n",
       "      <th>ingredients_text_en_ocr_1656609873_result</th>\n",
       "      <th>ecoscore_extended_data.impact.likeliest_recipe.en:wheat_malt</th>\n",
       "      <th>ecoscore_extended_data.impact.likeliest_recipe.fr:matiere_grasse_de_lait_anhydre</th>\n",
       "      <th>ecoscore_extended_data.impact.likeliest_recipe.en:palm_kernel_fat</th>\n",
       "      <th>ecoscore_extended_data.impact.likeliest_recipe.en:glycerol_monostearate</th>\n",
       "      <th>product_name_ab</th>\n",
       "      <th>ingredients_text_with_allergens_ab</th>\n",
       "      <th>ingredients_text_ab</th>\n",
       "      <th>languages.en:abkhaz</th>\n",
       "      <th>languages_codes.ab</th>\n",
       "    </tr>\n",
       "  </thead>\n",
       "  <tbody>\n",
       "    <tr>\n",
       "      <th>0</th>\n",
       "      <td>3270160117444</td>\n",
       "      <td>c</td>\n",
       "      <td></td>\n",
       "      <td>[]</td>\n",
       "      <td>3270160117444</td>\n",
       "      <td>[]</td>\n",
       "      <td>[]</td>\n",
       "      <td>[en:meals, en:gratins, en:potato-gratin, en:da...</td>\n",
       "      <td>fr</td>\n",
       "      <td>[]</td>\n",
       "      <td>...</td>\n",
       "      <td>NaN</td>\n",
       "      <td>NaN</td>\n",
       "      <td>NaN</td>\n",
       "      <td>NaN</td>\n",
       "      <td>NaN</td>\n",
       "      <td>NaN</td>\n",
       "      <td>NaN</td>\n",
       "      <td>NaN</td>\n",
       "      <td>NaN</td>\n",
       "      <td>NaN</td>\n",
       "    </tr>\n",
       "    <tr>\n",
       "      <th>1</th>\n",
       "      <td>5000171031587</td>\n",
       "      <td>unknown</td>\n",
       "      <td></td>\n",
       "      <td>NaN</td>\n",
       "      <td>5000171031587</td>\n",
       "      <td>NaN</td>\n",
       "      <td>NaN</td>\n",
       "      <td>NaN</td>\n",
       "      <td>NaN</td>\n",
       "      <td>NaN</td>\n",
       "      <td>...</td>\n",
       "      <td>NaN</td>\n",
       "      <td>NaN</td>\n",
       "      <td>NaN</td>\n",
       "      <td>NaN</td>\n",
       "      <td>NaN</td>\n",
       "      <td>NaN</td>\n",
       "      <td>NaN</td>\n",
       "      <td>NaN</td>\n",
       "      <td>NaN</td>\n",
       "      <td>NaN</td>\n",
       "    </tr>\n",
       "    <tr>\n",
       "      <th>2</th>\n",
       "      <td>0206288016409</td>\n",
       "      <td>unknown</td>\n",
       "      <td></td>\n",
       "      <td>NaN</td>\n",
       "      <td>0206288016409</td>\n",
       "      <td>NaN</td>\n",
       "      <td>[]</td>\n",
       "      <td>NaN</td>\n",
       "      <td>NaN</td>\n",
       "      <td>NaN</td>\n",
       "      <td>...</td>\n",
       "      <td>NaN</td>\n",
       "      <td>NaN</td>\n",
       "      <td>NaN</td>\n",
       "      <td>NaN</td>\n",
       "      <td>NaN</td>\n",
       "      <td>NaN</td>\n",
       "      <td>NaN</td>\n",
       "      <td>NaN</td>\n",
       "      <td>NaN</td>\n",
       "      <td>NaN</td>\n",
       "    </tr>\n",
       "    <tr>\n",
       "      <th>3</th>\n",
       "      <td>2000000057613</td>\n",
       "      <td>unknown</td>\n",
       "      <td>en:eggs, œufs, lait</td>\n",
       "      <td>[]</td>\n",
       "      <td>2000000057613</td>\n",
       "      <td>[]</td>\n",
       "      <td>[]</td>\n",
       "      <td>[en:meals, fr:omelettes, fr:omelette-avec-garn...</td>\n",
       "      <td>fr</td>\n",
       "      <td>[]</td>\n",
       "      <td>...</td>\n",
       "      <td>NaN</td>\n",
       "      <td>NaN</td>\n",
       "      <td>NaN</td>\n",
       "      <td>NaN</td>\n",
       "      <td>NaN</td>\n",
       "      <td>NaN</td>\n",
       "      <td>NaN</td>\n",
       "      <td>NaN</td>\n",
       "      <td>NaN</td>\n",
       "      <td>NaN</td>\n",
       "    </tr>\n",
       "    <tr>\n",
       "      <th>4</th>\n",
       "      <td>0659422216430</td>\n",
       "      <td>e</td>\n",
       "      <td>en:gluten, wheat, malted barley flour, soy lec...</td>\n",
       "      <td>NaN</td>\n",
       "      <td>0659422216430</td>\n",
       "      <td>NaN</td>\n",
       "      <td>[]</td>\n",
       "      <td>[en:snacks, en:sweet-snacks, en:biscuits-and-c...</td>\n",
       "      <td>en</td>\n",
       "      <td>[]</td>\n",
       "      <td>...</td>\n",
       "      <td>NaN</td>\n",
       "      <td>NaN</td>\n",
       "      <td>NaN</td>\n",
       "      <td>NaN</td>\n",
       "      <td>NaN</td>\n",
       "      <td>NaN</td>\n",
       "      <td>NaN</td>\n",
       "      <td>NaN</td>\n",
       "      <td>NaN</td>\n",
       "      <td>NaN</td>\n",
       "    </tr>\n",
       "  </tbody>\n",
       "</table>\n",
       "<p>5 rows × 6591 columns</p>\n",
       "</div>"
      ],
      "text/plain": [
       "             _id nutrition_grades  \\\n",
       "0  3270160117444                c   \n",
       "1  5000171031587          unknown   \n",
       "2  0206288016409          unknown   \n",
       "3  2000000057613          unknown   \n",
       "4  0659422216430                e   \n",
       "\n",
       "                          allergens_from_ingredients  \\\n",
       "0                                                      \n",
       "1                                                      \n",
       "2                                                      \n",
       "3                                en:eggs, œufs, lait   \n",
       "4  en:gluten, wheat, malted barley flour, soy lec...   \n",
       "\n",
       "  ingredients_text_fr_debug_tags             id emb_codes_debug_tags  \\\n",
       "0                             []  3270160117444                   []   \n",
       "1                            NaN  5000171031587                  NaN   \n",
       "2                            NaN  0206288016409                  NaN   \n",
       "3                             []  2000000057613                   []   \n",
       "4                            NaN  0659422216430                  NaN   \n",
       "\n",
       "  amino_acids_prev_tags                                    categories_tags  \\\n",
       "0                    []  [en:meals, en:gratins, en:potato-gratin, en:da...   \n",
       "1                   NaN                                                NaN   \n",
       "2                    []                                                NaN   \n",
       "3                    []  [en:meals, fr:omelettes, fr:omelette-avec-garn...   \n",
       "4                    []  [en:snacks, en:sweet-snacks, en:biscuits-and-c...   \n",
       "\n",
       "  categories_lc brands_debug_tags  ...  \\\n",
       "0            fr                []  ...   \n",
       "1           NaN               NaN  ...   \n",
       "2           NaN               NaN  ...   \n",
       "3            fr                []  ...   \n",
       "4            en                []  ...   \n",
       "\n",
       "  ingredients_text_en_ocr_1656609873_result  \\\n",
       "0                                       NaN   \n",
       "1                                       NaN   \n",
       "2                                       NaN   \n",
       "3                                       NaN   \n",
       "4                                       NaN   \n",
       "\n",
       "  ecoscore_extended_data.impact.likeliest_recipe.en:wheat_malt  \\\n",
       "0                                                NaN             \n",
       "1                                                NaN             \n",
       "2                                                NaN             \n",
       "3                                                NaN             \n",
       "4                                                NaN             \n",
       "\n",
       "  ecoscore_extended_data.impact.likeliest_recipe.fr:matiere_grasse_de_lait_anhydre  \\\n",
       "0                                                NaN                                 \n",
       "1                                                NaN                                 \n",
       "2                                                NaN                                 \n",
       "3                                                NaN                                 \n",
       "4                                                NaN                                 \n",
       "\n",
       "  ecoscore_extended_data.impact.likeliest_recipe.en:palm_kernel_fat  \\\n",
       "0                                                NaN                  \n",
       "1                                                NaN                  \n",
       "2                                                NaN                  \n",
       "3                                                NaN                  \n",
       "4                                                NaN                  \n",
       "\n",
       "  ecoscore_extended_data.impact.likeliest_recipe.en:glycerol_monostearate  \\\n",
       "0                                                NaN                        \n",
       "1                                                NaN                        \n",
       "2                                                NaN                        \n",
       "3                                                NaN                        \n",
       "4                                                NaN                        \n",
       "\n",
       "  product_name_ab ingredients_text_with_allergens_ab ingredients_text_ab  \\\n",
       "0             NaN                                NaN                 NaN   \n",
       "1             NaN                                NaN                 NaN   \n",
       "2             NaN                                NaN                 NaN   \n",
       "3             NaN                                NaN                 NaN   \n",
       "4             NaN                                NaN                 NaN   \n",
       "\n",
       "  languages.en:abkhaz languages_codes.ab  \n",
       "0                 NaN                NaN  \n",
       "1                 NaN                NaN  \n",
       "2                 NaN                NaN  \n",
       "3                 NaN                NaN  \n",
       "4                 NaN                NaN  \n",
       "\n",
       "[5 rows x 6591 columns]"
      ]
     },
     "execution_count": 9,
     "metadata": {},
     "output_type": "execute_result"
    }
   ],
   "source": [
    "df_random_records = pd.json_normalize(random_records)\n",
    "df_random_records.head()"
   ]
  },
  {
   "cell_type": "markdown",
   "id": "476f7178-f3d3-4481-9a91-f2ec5588bf96",
   "metadata": {},
   "source": [
    "## Extract information from records\n",
    "\n",
    "We will use the key:value information to create text that will be used with LLM\n",
    "to generate representative text so we can use for classification. Loop through all records"
   ]
  },
  {
   "cell_type": "code",
   "execution_count": 15,
   "id": "dde57829-302d-4506-83a8-bc27e33cad70",
   "metadata": {},
   "outputs": [
    {
     "name": "stdout",
     "output_type": "stream",
     "text": [
      "CPU times: total: 2min 41s\n",
      "Wall time: 2min 54s\n"
     ]
    }
   ],
   "source": [
    "%%time\n",
    "\n",
    "# Check for known terms that should be ignored\n",
    "pattern = r\"\\b(test|%|test|hi|form|web|full|kcal|known|true|false|moderate)\\b|:|\\d+|\\-|_|\\.\"\n",
    "# Keep track of frequent terms for post processing\n",
    "frequent_terms = Counter()\n",
    "# All data\n",
    "product_data_all = []\n",
    "\n",
    "for index, row in df_random_records.iterrows():\n",
    "    seen_text = []\n",
    "    product_data = {}\n",
    "    # Check for text fields and keep only those\n",
    "    for field in row.keys():\n",
    "        data = row[field]\n",
    "        # Transform list items into str\n",
    "        if isinstance(data,list) and data:\n",
    "            # If list join if all are string\n",
    "            data = \",\".join(data) if all(isinstance(item,str) for item in data) else data\n",
    "\n",
    "        # Add only if str and value not seen already    \n",
    "        if data and isinstance(data,str) and data not in seen_text:\n",
    "            text = data\n",
    "            frequent_terms.update([data])  \n",
    "            # Seen for this product\n",
    "            seen_text.append(text)\n",
    "            if not re.search(pattern, text):\n",
    "                product_data[field]=text\n",
    "    product_data_all.append(product_data)"
   ]
  },
  {
   "cell_type": "code",
   "execution_count": 16,
   "id": "7cc3c4df-1559-447e-bc15-878653efcf1e",
   "metadata": {},
   "outputs": [
    {
     "data": {
      "text/plain": [
       "5000"
      ]
     },
     "execution_count": 16,
     "metadata": {},
     "output_type": "execute_result"
    }
   ],
   "source": [
    "len(product_data_all)"
   ]
  },
  {
   "cell_type": "code",
   "execution_count": 17,
   "id": "a0e24e85-9be6-404d-a7c7-cd45faa8b334",
   "metadata": {},
   "outputs": [
    {
     "data": {
      "text/plain": [
       "[{'nutrition_grades': 'c',\n",
       "  'categories_lc': 'fr',\n",
       "  'nutrition_data': 'on',\n",
       "  'product_name': 'GRATIN DAUPHINOIS',\n",
       "  'nova_group_debug': 'no nova group when the product does not have ingredients',\n",
       "  'creator': 'kiliweb',\n",
       "  'brands': 'Picard',\n",
       "  'ecoscore_grade': 'b',\n",
       "  'brands_tags': 'picard',\n",
       "  'traces_from_user': '(fr) ',\n",
       "  'categories': 'Plats préparés, Gratins, Gratins de pomme de terre, Gratins dauphinois',\n",
       "  'pnns_groups_1': 'Composite foods',\n",
       "  'nova_groups_tags': 'unknown',\n",
       "  'countries': 'France',\n",
       "  'category_properties.ciqual_food_name:fr': 'Gratin dauphinois',\n",
       "  'nutriments.sodium_unit': 'g',\n",
       "  'nutrient_levels.sugars': 'low'},\n",
       " {'nutrition_grades': 'unknown',\n",
       "  'lang': 'fr',\n",
       "  'labels_lc': 'en',\n",
       "  'product_name': 'John west',\n",
       "  'nova_group_debug': 'no nova group when the product does not have ingredients',\n",
       "  'creator': 'kiliweb',\n",
       "  'brands': 'John West',\n",
       "  'traces_from_user': '(fr) ',\n",
       "  'nutrition_score_debug': 'no score when the product does not have a category',\n",
       "  'last_modified_by': 'segundo',\n",
       "  'nutriments.sodium_unit': 'g'},\n",
       " {'nutrition_grades': 'unknown',\n",
       "  'lang': 'fr',\n",
       "  'product_name': 'Croissant beurre',\n",
       "  'nova_group_debug': 'no nova group when the product does not have ingredients',\n",
       "  'creator': 'kiliweb',\n",
       "  '_keywords': 'beurre,croissant',\n",
       "  'traces_from_user': '(fr) ',\n",
       "  'nutrition_score_debug': 'no score when the product does not have a category',\n",
       "  'nutriments.sodium_unit': 'g'}]"
      ]
     },
     "execution_count": 17,
     "metadata": {},
     "output_type": "execute_result"
    }
   ],
   "source": [
    "product_data_all[0:3]"
   ]
  },
  {
   "cell_type": "code",
   "execution_count": 18,
   "id": "5685f989-c01e-4d78-bcec-e44bbdcb1329",
   "metadata": {},
   "outputs": [
    {
     "data": {
      "text/plain": [
       "5025"
      ]
     },
     "execution_count": 18,
     "metadata": {},
     "output_type": "execute_result"
    }
   ],
   "source": [
    "# Calculate Common words - to filter\n",
    "common_words = [t[0] for t in frequent_terms.most_common() if t[1]>3]\n",
    "len(common_words)"
   ]
  },
  {
   "cell_type": "markdown",
   "id": "5e56d24d-2ca4-41b1-8010-e2d702418c3e",
   "metadata": {},
   "source": [
    "### Clean common values "
   ]
  },
  {
   "cell_type": "code",
   "execution_count": 19,
   "id": "e5bddb9f-5de6-4e7f-8e38-33c0c4f912fb",
   "metadata": {},
   "outputs": [
    {
     "name": "stdout",
     "output_type": "stream",
     "text": [
      "CPU times: total: 2 s\n",
      "Wall time: 2.26 s\n"
     ]
    }
   ],
   "source": [
    "%%time\n",
    "# Clean out common words\n",
    "product_data_all_final = []\n",
    "for p in product_data_all:\n",
    "    cleaned_dict = {}\n",
    "    for k,v in p.items():\n",
    "        if v not in common_words:\n",
    "            cleaned_dict[k] = v\n",
    "            #print(v, v not in common_words)\n",
    "    product_data_all_final.append(cleaned_dict)"
   ]
  },
  {
   "cell_type": "code",
   "execution_count": 20,
   "id": "fd2298a8-533e-486c-bb62-9701ea0aa768",
   "metadata": {},
   "outputs": [
    {
     "data": {
      "text/plain": [
       "[{'product_name': 'GRATIN DAUPHINOIS',\n",
       "  'categories': 'Plats préparés, Gratins, Gratins de pomme de terre, Gratins dauphinois',\n",
       "  'category_properties.ciqual_food_name:fr': 'Gratin dauphinois'},\n",
       " {'product_name': 'John west', 'brands': 'John West'},\n",
       " {'product_name': 'Croissant beurre', '_keywords': 'beurre,croissant'},\n",
       " {'correctors_tags': 'teolemon,beniben,packbot,greensky',\n",
       "  'product_name': 'Omelette Nature Taux de Sel Réduit',\n",
       "  'debug_param_sorted_langs': 'fr,lc',\n",
       "  'informers_tags': 'teolemon,beniben,greensky',\n",
       "  'labels': 'Peu ou pas de sel, Peu de sel, Sans gluten, Allégé en sel, Taux de sel réduit',\n",
       "  'editors_tags': 'beniben,packbot,greensky,teolemon',\n",
       "  'last_modified_by': 'greensky',\n",
       "  'ecoscore_data.agribalyse.name_fr': 'Omelette au fromage',\n",
       "  'ecoscore_data.agribalyse.name_en': 'Omelette, with cheese'},\n",
       " {'product_name': 'Too good gourmet, chocolate chip cookies',\n",
       "  'brands': 'Too Good Gourmet',\n",
       "  '_keywords': 'sweet,too,biscuit,good,snack,gourmet,cookie,cake,and,chip,chocolate',\n",
       "  'ingredients_text_debug': 'Enriched  wheat flour (wheat, malted barley flour, niacin, reduced iron, thiamine mononitrate, riboflavin, folic acid), sugar, chocolate chips (sugar, chocolate liquor, cocoa butter, soy lecithin [emulsifier], vanilla), palm oil, eggs, butter (cream [milk'}]"
      ]
     },
     "execution_count": 20,
     "metadata": {},
     "output_type": "execute_result"
    }
   ],
   "source": [
    "product_data_all_final[0:5]"
   ]
  },
  {
   "cell_type": "code",
   "execution_count": 21,
   "id": "2fe4f327-502d-4ad6-8142-7ffd2457e85c",
   "metadata": {},
   "outputs": [],
   "source": [
    "def generate_text(product_dict):\n",
    "    \"\"\"Given a dictionary with product information, create text to feed LLM for data augmentation\"\"\"\n",
    "    return \", \".join([f\"{k}:{v}\" for k,v in product_dict.items()])"
   ]
  },
  {
   "cell_type": "code",
   "execution_count": 23,
   "id": "c5f09bf5-23f8-4ec9-8794-a2846f51ce65",
   "metadata": {},
   "outputs": [
    {
     "data": {
      "text/plain": [
       "'product_name:Hamburger slices, _keywords:snack,salted,slice,hamburger'"
      ]
     },
     "execution_count": 23,
     "metadata": {},
     "output_type": "execute_result"
    }
   ],
   "source": [
    "generate_text(product_data_all_final[2001])"
   ]
  },
  {
   "cell_type": "markdown",
   "id": "74b1cbb5-dbfd-486d-8a64-c537cfd2fb69",
   "metadata": {},
   "source": [
    "## Generate Synthetic Text \n",
    "\n",
    "Call LLM with product data to generate well defined texts that can be used for categorization. \n",
    "The idea is to leverage the power of an LLM to enhance our data."
   ]
  },
  {
   "cell_type": "code",
   "execution_count": 12,
   "id": "0aeb9aa7-3cc9-4e82-80d2-925242ace7f0",
   "metadata": {},
   "outputs": [],
   "source": [
    "# Definition Generator class\n",
    "from langchain.schema import HumanMessage\n",
    "from langchain.schema import SystemMessage\n",
    "from langchain.chat_models import ChatOpenAI\n",
    "\n",
    "# This prompt will guide LLM to create a text based in our data\n",
    "FOOD_PROMPT = \"\"\"You are a helpful text creator that takes incomplete information about\\\n",
    "a food product and create well written explanation of what you are given. You may be given\\\n",
    " a combination of key value pairs of information such as product_name: Rillettes de cabillaud \\\n",
    " which may be comma delimited with other information. If you can't create a well written text, just write \\\n",
    " NO INFORMATION FOUND.\"\"\"\n",
    "\n",
    "# Wrapper class for calling LLM\n",
    "class OpenAIDefinitionGenerator():\n",
    "\n",
    "    def __init__(self, verbose=False):\n",
    "        \"\"\"Initialize to use ChatGPT\"\"\"\n",
    "        self.agent = ChatOpenAI(temperature=0)\n",
    "\n",
    "    def generate_definition(self, text):\n",
    "        messages = [\n",
    "            SystemMessage(content=FOOD_PROMPT),\n",
    "            HumanMessage(content=text)\n",
    "        ]\n",
    "        definition_obj = self.agent(messages)\n",
    "        if definition_obj:\n",
    "            definition = definition_obj.content\n",
    "            return definition\n",
    "        else:\n",
    "            return None"
   ]
  },
  {
   "cell_type": "code",
   "execution_count": 13,
   "id": "d58009e1-c3d4-485c-a4da-b97dae5cca39",
   "metadata": {},
   "outputs": [],
   "source": [
    "# Instantiate\n",
    "chatGPTdefinitionGenerator = OpenAIDefinitionGenerator(verbose=True)"
   ]
  },
  {
   "cell_type": "markdown",
   "id": "8b13f458-b5df-4dd9-87ff-924a459d071b",
   "metadata": {},
   "source": [
    "## Test Text Generation"
   ]
  },
  {
   "cell_type": "code",
   "execution_count": 31,
   "id": "7eb59cba-27aa-4b02-8a6e-1fc6c61da5c5",
   "metadata": {},
   "outputs": [
    {
     "data": {
      "text/plain": [
       "{'product_name': 'Petit Beurre Pepite De Chocolat Pocket',\n",
       " 'brands': 'Bisson',\n",
       " '_keywords': 'biscuit,sucre,snack,de,pepite,chocolat,bio,beurre,gateaux,sable,et,petit,pocket,bisson',\n",
       " 'brands_tags': 'bisson',\n",
       " 'categories': 'Snacks, Snacks sucrés, Biscuits et gâteaux, Biscuits, Biscuits sablés'}"
      ]
     },
     "execution_count": 31,
     "metadata": {},
     "output_type": "execute_result"
    }
   ],
   "source": [
    "product_data_all_final[62]"
   ]
  },
  {
   "cell_type": "code",
   "execution_count": 33,
   "id": "ec99f559-39bf-47ed-8506-32ce40892e47",
   "metadata": {},
   "outputs": [
    {
     "data": {
      "text/plain": [
       "\"Petit Beurre Pepite De Chocolat Pocket by Bisson is a delightful snack that combines the classic taste of Petit Beurre biscuits with the indulgence of chocolate chips. Made with organic ingredients, these biscuits are a perfect treat for those who enjoy a sweet and satisfying snack.\\n\\nThe Bisson brand is known for its high-quality products, and their Petit Beurre Pepite De Chocolat Pocket is no exception. These biscuits are carefully crafted to ensure a perfect balance of flavors and textures. The buttery and crumbly texture of the biscuits pairs perfectly with the rich and creamy chocolate chips, creating a truly irresistible combination.\\n\\nWhether you're looking for a quick snack on the go or a sweet treat to enjoy with a cup of tea, these biscuits are a great choice. They are conveniently packaged in a pocket-sized format, making them easy to carry and enjoy wherever you are.\\n\\nIn terms of categories, Petit Beurre Pepite De Chocolat Pocket falls under the Snacks, Snacks sucrés, Biscuits et gâteaux, and Biscuits sablés categories. This means that it is classified as a sweet snack, specifically a biscuit or cookie with a sandy texture.\\n\\nIndulge in the deliciousness of Petit Beurre Pepite De Chocolat Pocket by Bisson. With its organic ingredients, delightful taste, and convenient packaging, it is sure to satisfy your cravings for a sweet and satisfying snack.\""
      ]
     },
     "execution_count": 33,
     "metadata": {},
     "output_type": "execute_result"
    }
   ],
   "source": [
    "# Test\n",
    "chatGPTdefinitionGenerator.generate_definition(generate_text(product_data_all_final[62]))"
   ]
  },
  {
   "cell_type": "markdown",
   "id": "b86b0a1b-2b40-49b1-839c-c1c9bd363871",
   "metadata": {},
   "source": [
    "## Prepare text for feeding to LLM"
   ]
  },
  {
   "cell_type": "code",
   "execution_count": 34,
   "id": "9134410b-b031-4ebf-8c0b-012863819be0",
   "metadata": {},
   "outputs": [],
   "source": [
    "final_texts = []\n",
    "for product in product_data_all_final:\n",
    "    final_texts.append(generate_text(product))"
   ]
  },
  {
   "cell_type": "code",
   "execution_count": 35,
   "id": "44719f2c-d23b-4954-811e-ede1fc44964d",
   "metadata": {},
   "outputs": [
    {
     "data": {
      "text/plain": [
       "5000"
      ]
     },
     "execution_count": 35,
     "metadata": {},
     "output_type": "execute_result"
    }
   ],
   "source": [
    "len(final_texts)"
   ]
  },
  {
   "cell_type": "code",
   "execution_count": 43,
   "id": "b1aa2043-183f-4896-83e8-a6ab5baf1ae4",
   "metadata": {},
   "outputs": [
    {
     "data": {
      "text/plain": [
       "{'product_name': 'Arno Shortbread',\n",
       " 'brands': 'Arnotts',\n",
       " '_keywords': 'arno,arnott,shortbread',\n",
       " 'brands_tags': 'arnotts'}"
      ]
     },
     "execution_count": 43,
     "metadata": {},
     "output_type": "execute_result"
    }
   ],
   "source": [
    "product_data_all_final[512]"
   ]
  },
  {
   "cell_type": "markdown",
   "id": "0f8482cc-1742-41b9-b4d6-b4febafb2dd6",
   "metadata": {},
   "source": [
    "## Save into local DB \n",
    "\n",
    "Create a sqlite cache of the generated data"
   ]
  },
  {
   "cell_type": "code",
   "execution_count": 124,
   "id": "520d4f93-3cd8-49cf-8319-f16e1cc31283",
   "metadata": {},
   "outputs": [],
   "source": [
    "conn = sqlite3.connect('synthetic_data.db')\n",
    "c = conn.cursor() \n",
    "# c.execute('''CREATE TABLE IF NOT EXISTS generated_texts  \n",
    "#              (id INTEGER PRIMARY KEY, text TEXT, generated_text TEXT)''')  \n"
   ]
  },
  {
   "cell_type": "markdown",
   "id": "b0510b17-a1e6-4e33-9eec-1ae80b123e6a",
   "metadata": {},
   "source": [
    "## Call LLM to Generate Synthetic Data"
   ]
  },
  {
   "cell_type": "code",
   "execution_count": 125,
   "id": "0e61637c-8f19-4ab7-8d1d-bd93f8024864",
   "metadata": {},
   "outputs": [
    {
     "name": "stdout",
     "output_type": "stream",
     "text": [
      "CPU times: total: 1min 3s\n",
      "Wall time: 5h 54min 12s\n"
     ]
    }
   ],
   "source": [
    "%%time\n",
    "for text in final_texts:\n",
    "    c.execute(\"SELECT * FROM generated_texts WHERE text = ?\", (text,))\n",
    "    if c.fetchone() is None:\n",
    "        # Text does not exist, generate synthetic text\n",
    "        generated_text = chatGPTdefinitionGenerator.generate_definition(text)\n",
    "        \n",
    "        c.execute(\"INSERT INTO generated_texts (text, generated_text) VALUES (?, ?)\", (text, generated_text))\n",
    "        conn.commit()\n",
    "        \n",
    "conn.close()"
   ]
  },
  {
   "cell_type": "markdown",
   "id": "6e676b1c-99fa-42c6-b5e5-9d47d1b1b277",
   "metadata": {},
   "source": [
    "At this point we have leverage our LLM to create syntethic data for our classification task\n",
    "This can be seen in the next notebook"
   ]
  }
 ],
 "metadata": {
  "kernelspec": {
   "display_name": "Python 3 (ipykernel)",
   "language": "python",
   "name": "python3"
  },
  "language_info": {
   "codemirror_mode": {
    "name": "ipython",
    "version": 3
   },
   "file_extension": ".py",
   "mimetype": "text/x-python",
   "name": "python",
   "nbconvert_exporter": "python",
   "pygments_lexer": "ipython3",
   "version": "3.10.13"
  }
 },
 "nbformat": 4,
 "nbformat_minor": 5
}
