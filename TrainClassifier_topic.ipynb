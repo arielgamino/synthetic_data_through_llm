{
 "cells": [
  {
   "cell_type": "code",
   "execution_count": 66,
   "id": "286b0174-5911-4669-858a-80757652f0fa",
   "metadata": {},
   "outputs": [],
   "source": [
    "from datasets import Dataset\n",
    "import pandas as pd\n",
    "\n",
    "from datasets import load_dataset\n",
    "from transformers import AutoTokenizer\n",
    "from transformers import DataCollatorWithPadding\n",
    "from transformers import AutoModelForSequenceClassification, TrainingArguments, Trainer\n",
    "from transformers import pipeline\n",
    "\n",
    "import evaluate\n",
    "import numpy as np\n",
    "import torch"
   ]
  },
  {
   "cell_type": "code",
   "execution_count": 21,
   "id": "404b0495-8ba4-4bb0-88c8-c12c74c671e3",
   "metadata": {},
   "outputs": [
    {
     "data": {
      "text/plain": [
       "(4741, 7)"
      ]
     },
     "execution_count": 21,
     "metadata": {},
     "output_type": "execute_result"
    }
   ],
   "source": [
    "df = pd.read_excel(\"data/df_docs_with_topic.xlsx\")\n",
    "df.shape"
   ]
  },
  {
   "cell_type": "code",
   "execution_count": 7,
   "id": "4b85c28e-692d-48d1-a029-53a9b58d9390",
   "metadata": {},
   "outputs": [
    {
     "data": {
      "text/html": [
       "<div>\n",
       "<style scoped>\n",
       "    .dataframe tbody tr th:only-of-type {\n",
       "        vertical-align: middle;\n",
       "    }\n",
       "\n",
       "    .dataframe tbody tr th {\n",
       "        vertical-align: top;\n",
       "    }\n",
       "\n",
       "    .dataframe thead th {\n",
       "        text-align: right;\n",
       "    }\n",
       "</style>\n",
       "<table border=\"1\" class=\"dataframe\">\n",
       "  <thead>\n",
       "    <tr style=\"text-align: right;\">\n",
       "      <th></th>\n",
       "      <th>id</th>\n",
       "      <th>text</th>\n",
       "      <th>generated_text</th>\n",
       "      <th>document</th>\n",
       "      <th>topics</th>\n",
       "      <th>probability</th>\n",
       "      <th>topic_number</th>\n",
       "    </tr>\n",
       "  </thead>\n",
       "  <tbody>\n",
       "    <tr>\n",
       "      <th>0</th>\n",
       "      <td>1</td>\n",
       "      <td>product_name_es:Salchichón, labels:Sin gluten,...</td>\n",
       "      <td>El Salchichón es un producto de origen español...</td>\n",
       "      <td>El Salchichón es un producto de origen español...</td>\n",
       "      <td>sausage, meat, spices, charcuterie</td>\n",
       "      <td>0.656090</td>\n",
       "      <td>16</td>\n",
       "    </tr>\n",
       "    <tr>\n",
       "      <th>1</th>\n",
       "      <td>2</td>\n",
       "      <td>countries:France, Suisse, brands:Nestlé, brand...</td>\n",
       "      <td>Rillettes de cabillaud is a delicious seafood ...</td>\n",
       "      <td>Rillettes de cabillaud is a delicious seafood ...</td>\n",
       "      <td>rillettes, cabillaud, cod, fish</td>\n",
       "      <td>0.901860</td>\n",
       "      <td>1</td>\n",
       "    </tr>\n",
       "    <tr>\n",
       "      <th>2</th>\n",
       "      <td>3</td>\n",
       "      <td>product_name:Hierba a romatica de, chamomile, ...</td>\n",
       "      <td>Hierba a romatica de chamomile is a delightful...</td>\n",
       "      <td>Hierba a romatica de chamomile is a delightful...</td>\n",
       "      <td>tea, green, beverage, leaves</td>\n",
       "      <td>1.000000</td>\n",
       "      <td>6</td>\n",
       "    </tr>\n",
       "    <tr>\n",
       "      <th>3</th>\n",
       "      <td>4</td>\n",
       "      <td>product_name:Rillettes de cabillaud, _keywords...</td>\n",
       "      <td>Rillettes de cabillaud, also known as cod rill...</td>\n",
       "      <td>Rillettes de cabillaud, also known as cod rill...</td>\n",
       "      <td>rillettes, cabillaud, cod, fish</td>\n",
       "      <td>0.901860</td>\n",
       "      <td>1</td>\n",
       "    </tr>\n",
       "    <tr>\n",
       "      <th>4</th>\n",
       "      <td>5</td>\n",
       "      <td>product_name:Thin &amp; crispy pizza, pnns_groups_...</td>\n",
       "      <td>The Thin &amp; Crispy Pizza is a delicious meal op...</td>\n",
       "      <td>The Thin &amp; Crispy Pizza is a delicious meal op...</td>\n",
       "      <td>pizzas, crust, crispy, dough</td>\n",
       "      <td>0.521115</td>\n",
       "      <td>32</td>\n",
       "    </tr>\n",
       "  </tbody>\n",
       "</table>\n",
       "</div>"
      ],
      "text/plain": [
       "   id                                               text  \\\n",
       "0   1  product_name_es:Salchichón, labels:Sin gluten,...   \n",
       "1   2  countries:France, Suisse, brands:Nestlé, brand...   \n",
       "2   3  product_name:Hierba a romatica de, chamomile, ...   \n",
       "3   4  product_name:Rillettes de cabillaud, _keywords...   \n",
       "4   5  product_name:Thin & crispy pizza, pnns_groups_...   \n",
       "\n",
       "                                      generated_text  \\\n",
       "0  El Salchichón es un producto de origen español...   \n",
       "1  Rillettes de cabillaud is a delicious seafood ...   \n",
       "2  Hierba a romatica de chamomile is a delightful...   \n",
       "3  Rillettes de cabillaud, also known as cod rill...   \n",
       "4  The Thin & Crispy Pizza is a delicious meal op...   \n",
       "\n",
       "                                            document  \\\n",
       "0  El Salchichón es un producto de origen español...   \n",
       "1  Rillettes de cabillaud is a delicious seafood ...   \n",
       "2  Hierba a romatica de chamomile is a delightful...   \n",
       "3  Rillettes de cabillaud, also known as cod rill...   \n",
       "4  The Thin & Crispy Pizza is a delicious meal op...   \n",
       "\n",
       "                               topics  probability  topic_number  \n",
       "0  sausage, meat, spices, charcuterie     0.656090            16  \n",
       "1     rillettes, cabillaud, cod, fish     0.901860             1  \n",
       "2        tea, green, beverage, leaves     1.000000             6  \n",
       "3     rillettes, cabillaud, cod, fish     0.901860             1  \n",
       "4        pizzas, crust, crispy, dough     0.521115            32  "
      ]
     },
     "execution_count": 7,
     "metadata": {},
     "output_type": "execute_result"
    }
   ],
   "source": [
    "df.head()"
   ]
  },
  {
   "cell_type": "code",
   "execution_count": 45,
   "id": "1b88b7e7-c266-4e92-babf-d7824cbf8933",
   "metadata": {},
   "outputs": [],
   "source": [
    "df_training = df[['text','topics']].copy()\n",
    "df_training.columns = ['text', 'topics']\n",
    "df_training.shape\n",
    "\n",
    "labels = list(df_training['topics'].unique())\n",
    "id2label = { i:labels[i] for i in range(len(labels))}\n",
    "label2id = {v:k for k, v in id2label.items()}"
   ]
  },
  {
   "cell_type": "code",
   "execution_count": 46,
   "id": "f331edbd-b61a-49f1-84d1-0d355dc5d018",
   "metadata": {},
   "outputs": [],
   "source": [
    "df_training['label'] = df_training['topics'].apply(lambda topic:label2id[topic])"
   ]
  },
  {
   "cell_type": "code",
   "execution_count": 49,
   "id": "5cd2885c-f639-451a-b339-0c0007f1966e",
   "metadata": {},
   "outputs": [
    {
     "data": {
      "text/html": [
       "<div>\n",
       "<style scoped>\n",
       "    .dataframe tbody tr th:only-of-type {\n",
       "        vertical-align: middle;\n",
       "    }\n",
       "\n",
       "    .dataframe tbody tr th {\n",
       "        vertical-align: top;\n",
       "    }\n",
       "\n",
       "    .dataframe thead th {\n",
       "        text-align: right;\n",
       "    }\n",
       "</style>\n",
       "<table border=\"1\" class=\"dataframe\">\n",
       "  <thead>\n",
       "    <tr style=\"text-align: right;\">\n",
       "      <th></th>\n",
       "      <th>text</th>\n",
       "      <th>topics</th>\n",
       "      <th>label</th>\n",
       "    </tr>\n",
       "  </thead>\n",
       "  <tbody>\n",
       "    <tr>\n",
       "      <th>902</th>\n",
       "      <td>product_name:Vinaigre balsamique de modéne vie...</td>\n",
       "      <td>wine, vinegar, white, red</td>\n",
       "      <td>29</td>\n",
       "    </tr>\n",
       "    <tr>\n",
       "      <th>399</th>\n",
       "      <td>product_name:Nougat, _keywords:nougat, categor...</td>\n",
       "      <td>nuts, nutty, snack, pan</td>\n",
       "      <td>47</td>\n",
       "    </tr>\n",
       "    <tr>\n",
       "      <th>4634</th>\n",
       "      <td>product_name:Cocktail vegetable Samosas, _keyw...</td>\n",
       "      <td>salad, dressing, fresh, dish</td>\n",
       "      <td>8</td>\n",
       "    </tr>\n",
       "    <tr>\n",
       "      <th>2695</th>\n",
       "      <td>ingredients_debug:Riz thaï long grain, photogr...</td>\n",
       "      <td>aliments, question, plant, bread</td>\n",
       "      <td>4</td>\n",
       "    </tr>\n",
       "    <tr>\n",
       "      <th>1265</th>\n",
       "      <td>product_name:Sirop Zero, _keywords:aproz,aroma...</td>\n",
       "      <td>chocolate, treat, product, snack</td>\n",
       "      <td>12</td>\n",
       "    </tr>\n",
       "  </tbody>\n",
       "</table>\n",
       "</div>"
      ],
      "text/plain": [
       "                                                   text  \\\n",
       "902   product_name:Vinaigre balsamique de modéne vie...   \n",
       "399   product_name:Nougat, _keywords:nougat, categor...   \n",
       "4634  product_name:Cocktail vegetable Samosas, _keyw...   \n",
       "2695  ingredients_debug:Riz thaï long grain, photogr...   \n",
       "1265  product_name:Sirop Zero, _keywords:aproz,aroma...   \n",
       "\n",
       "                                topics  label  \n",
       "902          wine, vinegar, white, red     29  \n",
       "399            nuts, nutty, snack, pan     47  \n",
       "4634      salad, dressing, fresh, dish      8  \n",
       "2695  aliments, question, plant, bread      4  \n",
       "1265  chocolate, treat, product, snack     12  "
      ]
     },
     "execution_count": 49,
     "metadata": {},
     "output_type": "execute_result"
    }
   ],
   "source": [
    "df_training.sample(5)"
   ]
  },
  {
   "cell_type": "code",
   "execution_count": 54,
   "id": "2e348247-99dd-4f77-b270-a3d655273549",
   "metadata": {},
   "outputs": [],
   "source": [
    "from datasets import Dataset\n",
    "# Create HF dataset\n",
    "ds = Dataset.from_dict({\"text\": df_training['text'].to_list(), \"label\": df_training['label'].to_list()})"
   ]
  },
  {
   "cell_type": "code",
   "execution_count": 55,
   "id": "bdb1d9b8-d7b3-417e-8895-763582a9ef94",
   "metadata": {},
   "outputs": [
    {
     "data": {
      "text/plain": [
       "{'text': 'product_name:Rillettes de cabillaud, _keywords:mer,tartiner,poisson,sale,rillette,produit,preparation,de,cabillaud,la, categories:Produits de la mer, Poissons et dérivés, Poissons, Produits à tartiner, Produits à tartiner salés, Rillettes, Préparations de poisson, Rillettes de poissons, Rillettes de cabillaud, categories_old:Produits de la mer, Poissons, Produits à tartiner, Produits à tartiner salés, Rillettes, Préparations de poisson, Rillettes de poissons, Rillettes de cabillaud, ecoscore_data.agribalyse.name_fr:Rillettes de poisson, ecoscore_data.agribalyse.name_en:Rillette, fish',\n",
       " 'label': 1}"
      ]
     },
     "execution_count": 55,
     "metadata": {},
     "output_type": "execute_result"
    }
   ],
   "source": [
    "ds[3]"
   ]
  },
  {
   "cell_type": "code",
   "execution_count": 56,
   "id": "78432331-4bfd-4221-9e66-7bd5ca22e477",
   "metadata": {},
   "outputs": [],
   "source": [
    "ds = ds.train_test_split(test_size=0.3)"
   ]
  },
  {
   "cell_type": "code",
   "execution_count": 57,
   "id": "7d55fe48-ce82-4511-9eca-c775685fa90c",
   "metadata": {},
   "outputs": [
    {
     "data": {
      "text/plain": [
       "DatasetDict({\n",
       "    train: Dataset({\n",
       "        features: ['text', 'label'],\n",
       "        num_rows: 3318\n",
       "    })\n",
       "    test: Dataset({\n",
       "        features: ['text', 'label'],\n",
       "        num_rows: 1423\n",
       "    })\n",
       "})"
      ]
     },
     "execution_count": 57,
     "metadata": {},
     "output_type": "execute_result"
    }
   ],
   "source": [
    "ds"
   ]
  },
  {
   "cell_type": "code",
   "execution_count": 58,
   "id": "b790526e-b15e-43b9-9c2c-0d274459ea58",
   "metadata": {},
   "outputs": [
    {
     "name": "stderr",
     "output_type": "stream",
     "text": [
      "Some weights of DistilBertForSequenceClassification were not initialized from the model checkpoint at distilbert-base-uncased and are newly initialized: ['pre_classifier.bias', 'classifier.bias', 'classifier.weight', 'pre_classifier.weight']\n",
      "You should probably TRAIN this model on a down-stream task to be able to use it for predictions and inference.\n"
     ]
    }
   ],
   "source": [
    "tokenizer = AutoTokenizer.from_pretrained(\"distilbert-base-uncased\")\n",
    "model = AutoModelForSequenceClassification.from_pretrained(\n",
    "    \"distilbert-base-uncased\", num_labels=len(labels), id2label=id2label, label2id=label2id\n",
    ")"
   ]
  },
  {
   "cell_type": "code",
   "execution_count": 59,
   "id": "d576b587-00ad-4ce1-8352-57ece1a0a8bd",
   "metadata": {},
   "outputs": [],
   "source": [
    "def preprocess_function(examples):\n",
    "    return tokenizer(examples[\"text\"], truncation=True)"
   ]
  },
  {
   "cell_type": "code",
   "execution_count": 60,
   "id": "a5b28199-776e-4b2f-abb5-787f84a09c31",
   "metadata": {},
   "outputs": [
    {
     "data": {
      "application/vnd.jupyter.widget-view+json": {
       "model_id": "4694370d56294a85af5cf2f534451a12",
       "version_major": 2,
       "version_minor": 0
      },
      "text/plain": [
       "Map:   0%|          | 0/3318 [00:00<?, ? examples/s]"
      ]
     },
     "metadata": {},
     "output_type": "display_data"
    },
    {
     "data": {
      "application/vnd.jupyter.widget-view+json": {
       "model_id": "29b15c198c574273b23fedb12c3f506d",
       "version_major": 2,
       "version_minor": 0
      },
      "text/plain": [
       "Map:   0%|          | 0/1423 [00:00<?, ? examples/s]"
      ]
     },
     "metadata": {},
     "output_type": "display_data"
    }
   ],
   "source": [
    "tokenized_ds = ds.map(preprocess_function, batched=True)"
   ]
  },
  {
   "cell_type": "code",
   "execution_count": 61,
   "id": "82bd15f9-49b2-4429-a66f-ec9bf1da9a4f",
   "metadata": {},
   "outputs": [],
   "source": [
    "data_collator = DataCollatorWithPadding(tokenizer=tokenizer)"
   ]
  },
  {
   "cell_type": "code",
   "execution_count": 62,
   "id": "675ccaeb-c813-41c9-9abe-d50297108254",
   "metadata": {},
   "outputs": [],
   "source": [
    "accuracy = evaluate.load(\"accuracy\")"
   ]
  },
  {
   "cell_type": "code",
   "execution_count": 63,
   "id": "9491c5a0-6ac5-409d-a99e-3ccf49706530",
   "metadata": {},
   "outputs": [],
   "source": [
    "def compute_metrics(eval_pred):\n",
    "    predictions, labels = eval_pred\n",
    "    predictions = np.argmax(predictions, axis=1)\n",
    "    return accuracy.compute(predictions=predictions, references=labels)"
   ]
  },
  {
   "cell_type": "code",
   "execution_count": 64,
   "id": "28204f19-34c2-4f81-92f6-d5192b1f3e6c",
   "metadata": {},
   "outputs": [
    {
     "name": "stderr",
     "output_type": "stream",
     "text": [
      "You're using a DistilBertTokenizerFast tokenizer. Please note that with a fast tokenizer, using the `__call__` method is faster than using a method to encode the text followed by a call to the `pad` method to get a padded encoding.\n"
     ]
    },
    {
     "data": {
      "text/html": [
       "\n",
       "    <div>\n",
       "      \n",
       "      <progress value='1040' max='1040' style='width:300px; height:20px; vertical-align: middle;'></progress>\n",
       "      [1040/1040 07:24, Epoch 5/5]\n",
       "    </div>\n",
       "    <table border=\"1\" class=\"dataframe\">\n",
       "  <thead>\n",
       " <tr style=\"text-align: left;\">\n",
       "      <th>Epoch</th>\n",
       "      <th>Training Loss</th>\n",
       "      <th>Validation Loss</th>\n",
       "      <th>Accuracy</th>\n",
       "    </tr>\n",
       "  </thead>\n",
       "  <tbody>\n",
       "    <tr>\n",
       "      <td>1</td>\n",
       "      <td>No log</td>\n",
       "      <td>4.704757</td>\n",
       "      <td>0.127196</td>\n",
       "    </tr>\n",
       "    <tr>\n",
       "      <td>2</td>\n",
       "      <td>No log</td>\n",
       "      <td>4.552974</td>\n",
       "      <td>0.127196</td>\n",
       "    </tr>\n",
       "    <tr>\n",
       "      <td>3</td>\n",
       "      <td>4.702400</td>\n",
       "      <td>4.345029</td>\n",
       "      <td>0.134223</td>\n",
       "    </tr>\n",
       "    <tr>\n",
       "      <td>4</td>\n",
       "      <td>4.702400</td>\n",
       "      <td>4.214291</td>\n",
       "      <td>0.187632</td>\n",
       "    </tr>\n",
       "    <tr>\n",
       "      <td>5</td>\n",
       "      <td>4.184500</td>\n",
       "      <td>4.170931</td>\n",
       "      <td>0.205200</td>\n",
       "    </tr>\n",
       "  </tbody>\n",
       "</table><p>"
      ],
      "text/plain": [
       "<IPython.core.display.HTML object>"
      ]
     },
     "metadata": {},
     "output_type": "display_data"
    },
    {
     "data": {
      "text/plain": [
       "TrainOutput(global_step=1040, training_loss=4.427901561443623, metrics={'train_runtime': 451.2762, 'train_samples_per_second': 36.762, 'train_steps_per_second': 2.305, 'total_flos': 946921133613312.0, 'train_loss': 4.427901561443623, 'epoch': 5.0})"
      ]
     },
     "execution_count": 64,
     "metadata": {},
     "output_type": "execute_result"
    }
   ],
   "source": [
    "training_args = TrainingArguments(\n",
    "    output_dir=\"my_awesome_model\",\n",
    "    learning_rate=2e-5,\n",
    "    per_device_train_batch_size=16,\n",
    "    per_device_eval_batch_size=16,\n",
    "    num_train_epochs=5,\n",
    "    weight_decay=0.01,\n",
    "    evaluation_strategy=\"epoch\",\n",
    "    save_strategy=\"epoch\",\n",
    "    load_best_model_at_end=True,\n",
    "    push_to_hub=True,\n",
    ")\n",
    "\n",
    "trainer = Trainer(\n",
    "    model=model,\n",
    "    args=training_args,\n",
    "    train_dataset=tokenized_ds[\"train\"],\n",
    "    eval_dataset=tokenized_ds[\"test\"],\n",
    "    tokenizer=tokenizer,\n",
    "    data_collator=data_collator,\n",
    "    compute_metrics=compute_metrics,\n",
    ")\n",
    "\n",
    "trainer.train()"
   ]
  },
  {
   "cell_type": "code",
   "execution_count": 69,
   "id": "beb56e1f-64dc-4d5f-80bd-7aec151fb4a1",
   "metadata": {},
   "outputs": [
    {
     "data": {
      "text/plain": [
       "'chocolate, treat, product, snack'"
      ]
     },
     "execution_count": 69,
     "metadata": {},
     "output_type": "execute_result"
    }
   ],
   "source": [
    "text = \"\"\"labels:Viande Française,Viande Porcine Française,Fabriqué en France,Transformé en France, product_name:Boudin Noir aux oignons, pnns_groups_2:Offals, _keywords:abat,aux,boudin,charcuterie,couenne,de,en,et,fabrique,frai,francaise,france,gra,noir,oeuf,oignon,poisson,porc,porcine,produit,sang,transforme,tripier,viande, labels_old:Viande Française, Viande Porcine Française, Fabriqué en France, Transformé en France\n",
    ", traces_from_ingredients:gluten, lait, oeufs, moutarde, fruits à coque, mollusques, images.6.uploader:tenka, categories:Viandes et dérivés, Viandes, Charcuteries, Poissons et viandes et oeufs, Frais, Abats, Produits tripiers, Boudins, Boudins noirs, Boudins noirs aux oignons, categories_old:Viandes et dérivés, Viandes, Charcuteries, Poissons et viandes et oeufs, Frais, Abats, Boudins, Produits tripiers, Boudins noirs, Boudins noirs aux oignons, categories_imported:Viandes, Charcuteries, ecoscore_data.agribalyse.name_fr:Boudin noir, rayon frais, generic_name_fr:Boudins noirs aux oignons, origins_old:Sang et gras de porc,Couenne,France, origins:France,Couenne,Sang et gras de porc, stores:Super U,Magasins U, product_name_fr_imported:Boudin noir aux oignons, labels_imported:Viande Française, Viande Porcine Française, Transformé en France, traces_imported:Œufs, Gluten, Lait, Mollusques, Moutarde, Fruits à coque, packaging_imported:Frais\"\n",
    "\"\"\"\n",
    "inputs = tokenizer(text, return_tensors=\"pt\").to('cuda')\n",
    "model.to('cuda')\n",
    "with torch.no_grad():\n",
    "    logits = model(**inputs).logits\n",
    "predicted_class_id = logits.argmax().item()\n",
    "model.config.id2label[predicted_class_id]   "
   ]
  },
  {
   "cell_type": "code",
   "execution_count": null,
   "id": "a3c7205c-c351-4941-ad60-9f9f434a4dfa",
   "metadata": {},
   "outputs": [],
   "source": []
  },
  {
   "cell_type": "code",
   "execution_count": null,
   "id": "8bd88148-0218-44cd-962f-eccf32b59e97",
   "metadata": {},
   "outputs": [],
   "source": []
  }
 ],
 "metadata": {
  "kernelspec": {
   "display_name": "Python 3 (ipykernel)",
   "language": "python",
   "name": "python3"
  },
  "language_info": {
   "codemirror_mode": {
    "name": "ipython",
    "version": 3
   },
   "file_extension": ".py",
   "mimetype": "text/x-python",
   "name": "python",
   "nbconvert_exporter": "python",
   "pygments_lexer": "ipython3",
   "version": "3.10.13"
  }
 },
 "nbformat": 4,
 "nbformat_minor": 5
}
